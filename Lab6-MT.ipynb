{
 "cells": [
  {
   "cell_type": "markdown",
   "id": "1e851459-5871-4775-a6ad-9be67ec956d5",
   "metadata": {},
   "source": [
    "# Lab 6"
   ]
  },
  {
   "cell_type": "markdown",
   "id": "4931229d-869b-49fd-8347-21f5760a3274",
   "metadata": {},
   "source": [
    "## Secret Manager Import"
   ]
  },
  {
   "cell_type": "code",
   "execution_count": 1,
   "id": "2980e9e9-2fee-42c8-bb46-445a52a32499",
   "metadata": {},
   "outputs": [],
   "source": [
    "import boto3\n",
    "from botocore.exceptions import ClientError\n",
    "import json\n",
    "\n",
    "def get_secret(secret_name):\n",
    "    region_name = \"us-east-1\"\n",
    "\n",
    "    # Create a Secrets Manager client\n",
    "    session = boto3.session.Session()\n",
    "    client = session.client(\n",
    "        service_name='secretsmanager',\n",
    "        region_name=region_name\n",
    "    )\n",
    "\n",
    "    try:\n",
    "        get_secret_value_response = client.get_secret_value(\n",
    "            SecretId=secret_name\n",
    "        )\n",
    "    except ClientError as e:\n",
    "        raise e\n",
    "\n",
    "    secret = get_secret_value_response['SecretString']\n",
    "    \n",
    "    return json.loads(secret)"
   ]
  },
  {
   "cell_type": "markdown",
   "id": "c6bdb4cb-6798-4d90-87ca-ae554ad6d105",
   "metadata": {},
   "source": [
    "## Connect to Database"
   ]
  },
  {
   "cell_type": "code",
   "execution_count": 2,
   "id": "23c949ad-91f6-400b-a411-53d3ef6606ad",
   "metadata": {},
   "outputs": [],
   "source": [
    "import psycopg2\n",
    "\n",
    "conn = psycopg2.connect(host=get_secret('postgresql')['host'],\n",
    "                      user=get_secret('postgresql')['username'],\n",
    "                      password = get_secret('postgresql')['password'],\n",
    "                      dbname=get_secret('postgresql')['engine'])\n",
    "\n",
    "cur = conn.cursor()"
   ]
  },
  {
   "cell_type": "markdown",
   "id": "dc0ea6bf-2507-4cf5-a650-b3e1397abc0a",
   "metadata": {},
   "source": [
    "## Q1 - Population Growth Rate"
   ]
  },
  {
   "cell_type": "markdown",
   "id": "3e03e081-5761-4255-a700-01fe9f5d5fd9",
   "metadata": {},
   "source": [
    "* option 1: do calculation in SQL"
   ]
  },
  {
   "cell_type": "code",
   "execution_count": 3,
   "id": "3a62a96c-10db-4ef5-8322-60f88cad4d83",
   "metadata": {},
   "outputs": [],
   "source": [
    "sql = \"\"\"\n",
    "     SELECT\n",
    "\tcurr.year,\n",
    "\tcurr.pop AS current_population,\n",
    "\tprev.pop AS previous_population,\n",
    "\tROUND(\n",
    "\t\t(CAST(curr.pop AS NUMERIC) - prev.pop) / prev.pop * 100,\n",
    "\t\t2\n",
    "\t) AS growth_rate_percent\n",
    "FROM\n",
    "\tpopulation curr\n",
    "JOIN \n",
    "\tpopulation prev ON curr.fips = prev.fips AND curr.year = prev.year + 1\n",
    "JOIN \n",
    "\tname n ON curr.fips = n.fips\n",
    "WHERE\n",
    "\tn.name = 'Arkansas'\n",
    "     \"\"\""
   ]
  },
  {
   "cell_type": "markdown",
   "id": "4f15e5a2-b50b-4bb6-9719-9eec952195ea",
   "metadata": {},
   "source": [
    "#### importing code from SQL"
   ]
  },
  {
   "cell_type": "markdown",
   "id": "53b0bb79-3843-4b2d-a793-9f0ca5593917",
   "metadata": {},
   "source": [
    "#### Import pandas and show the top 5 rows "
   ]
  },
  {
   "cell_type": "code",
   "execution_count": 4,
   "id": "813f24df-ecfa-4a28-9077-2c8abd6db089",
   "metadata": {},
   "outputs": [
    {
     "name": "stderr",
     "output_type": "stream",
     "text": [
      "/tmp/ipykernel_20756/2693001891.py:3: UserWarning: pandas only supports SQLAlchemy connectable (engine/connection) or database string URI or sqlite3 DBAPI2 connection. Other DBAPI2 objects are not tested. Please consider using SQLAlchemy.\n",
      "  ar_df = pd.read_sql(sql, con=conn)\n"
     ]
    },
    {
     "data": {
      "text/html": [
       "<div>\n",
       "<style scoped>\n",
       "    .dataframe tbody tr th:only-of-type {\n",
       "        vertical-align: middle;\n",
       "    }\n",
       "\n",
       "    .dataframe tbody tr th {\n",
       "        vertical-align: top;\n",
       "    }\n",
       "\n",
       "    .dataframe thead th {\n",
       "        text-align: right;\n",
       "    }\n",
       "</style>\n",
       "<table border=\"1\" class=\"dataframe\">\n",
       "  <thead>\n",
       "    <tr style=\"text-align: right;\">\n",
       "      <th></th>\n",
       "      <th>year</th>\n",
       "      <th>current_population</th>\n",
       "      <th>previous_population</th>\n",
       "      <th>growth_rate_percent</th>\n",
       "    </tr>\n",
       "  </thead>\n",
       "  <tbody>\n",
       "    <tr>\n",
       "      <th>0</th>\n",
       "      <td>2006</td>\n",
       "      <td>2810872</td>\n",
       "      <td>2701431</td>\n",
       "      <td>4.05</td>\n",
       "    </tr>\n",
       "    <tr>\n",
       "      <th>1</th>\n",
       "      <td>2007</td>\n",
       "      <td>2834797</td>\n",
       "      <td>2810872</td>\n",
       "      <td>0.85</td>\n",
       "    </tr>\n",
       "    <tr>\n",
       "      <th>2</th>\n",
       "      <td>2008</td>\n",
       "      <td>2855390</td>\n",
       "      <td>2834797</td>\n",
       "      <td>0.73</td>\n",
       "    </tr>\n",
       "    <tr>\n",
       "      <th>3</th>\n",
       "      <td>2009</td>\n",
       "      <td>2889450</td>\n",
       "      <td>2855390</td>\n",
       "      <td>1.19</td>\n",
       "    </tr>\n",
       "    <tr>\n",
       "      <th>4</th>\n",
       "      <td>2010</td>\n",
       "      <td>2921606</td>\n",
       "      <td>2889450</td>\n",
       "      <td>1.11</td>\n",
       "    </tr>\n",
       "  </tbody>\n",
       "</table>\n",
       "</div>"
      ],
      "text/plain": [
       "   year  current_population  previous_population  growth_rate_percent\n",
       "0  2006             2810872              2701431                 4.05\n",
       "1  2007             2834797              2810872                 0.85\n",
       "2  2008             2855390              2834797                 0.73\n",
       "3  2009             2889450              2855390                 1.19\n",
       "4  2010             2921606              2889450                 1.11"
      ]
     },
     "execution_count": 4,
     "metadata": {},
     "output_type": "execute_result"
    }
   ],
   "source": [
    "import pandas as pd\n",
    "\n",
    "ar_df = pd.read_sql(sql, con=conn)\n",
    "ar_df.head() #show the top 5 rows"
   ]
  },
  {
   "cell_type": "markdown",
   "id": "8d47a95f-b85b-484a-9d4a-f03043bfba70",
   "metadata": {},
   "source": [
    "#### install the JupyterLab AI to call Generative AI models"
   ]
  },
  {
   "cell_type": "code",
   "execution_count": 5,
   "id": "38338495-c99a-42c0-af7b-8c021358cbbe",
   "metadata": {},
   "outputs": [
    {
     "name": "stdout",
     "output_type": "stream",
     "text": [
      "Requirement already satisfied: pip in /home/ec2-user/anaconda3/envs/python3/lib/python3.10/site-packages (25.2)\n",
      "Requirement already satisfied: setuptools in /home/ec2-user/anaconda3/envs/python3/lib/python3.10/site-packages (80.9.0)\n",
      "Requirement already satisfied: wheel in /home/ec2-user/anaconda3/envs/python3/lib/python3.10/site-packages (0.45.1)\n",
      "Note: you may need to restart the kernel to use updated packages.\n"
     ]
    }
   ],
   "source": [
    "pip install -U pip setuptools wheel"
   ]
  },
  {
   "cell_type": "code",
   "execution_count": 6,
   "id": "b6da81ce-52f7-4179-b2c8-38e6839c6580",
   "metadata": {},
   "outputs": [
    {
     "name": "stdout",
     "output_type": "stream",
     "text": [
      "Requirement already satisfied: tiktoken>=0.7.0 in /home/ec2-user/anaconda3/envs/python3/lib/python3.10/site-packages (0.11.0)\n",
      "Requirement already satisfied: regex>=2022.1.18 in /home/ec2-user/anaconda3/envs/python3/lib/python3.10/site-packages (from tiktoken>=0.7.0) (2025.9.18)\n",
      "Requirement already satisfied: requests>=2.26.0 in /home/ec2-user/anaconda3/envs/python3/lib/python3.10/site-packages (from tiktoken>=0.7.0) (2.32.5)\n",
      "Requirement already satisfied: charset_normalizer<4,>=2 in /home/ec2-user/anaconda3/envs/python3/lib/python3.10/site-packages (from requests>=2.26.0->tiktoken>=0.7.0) (3.4.3)\n",
      "Requirement already satisfied: idna<4,>=2.5 in /home/ec2-user/anaconda3/envs/python3/lib/python3.10/site-packages (from requests>=2.26.0->tiktoken>=0.7.0) (3.10)\n",
      "Requirement already satisfied: urllib3<3,>=1.21.1 in /home/ec2-user/anaconda3/envs/python3/lib/python3.10/site-packages (from requests>=2.26.0->tiktoken>=0.7.0) (2.5.0)\n",
      "Requirement already satisfied: certifi>=2017.4.17 in /home/ec2-user/anaconda3/envs/python3/lib/python3.10/site-packages (from requests>=2.26.0->tiktoken>=0.7.0) (2025.8.3)\n",
      "Note: you may need to restart the kernel to use updated packages.\n"
     ]
    }
   ],
   "source": [
    "pip install --only-binary=:all: \"tiktoken>=0.7.0\""
   ]
  },
  {
   "cell_type": "code",
   "execution_count": 7,
   "id": "c119aff9-e103-4f7e-9378-30ffb5415639",
   "metadata": {},
   "outputs": [
    {
     "name": "stdout",
     "output_type": "stream",
     "text": [
      "Note: you may need to restart the kernel to use updated packages.\n"
     ]
    }
   ],
   "source": [
    "pip install \"jupyter-ai-magics[all]\" -q"
   ]
  },
  {
   "cell_type": "markdown",
   "id": "915422a0-fd77-46bb-b8c3-b685c9e7c6ca",
   "metadata": {},
   "source": [
    "#### install openai key"
   ]
  },
  {
   "cell_type": "code",
   "execution_count": 8,
   "id": "68858069-91fd-494b-b996-a087e5998995",
   "metadata": {},
   "outputs": [],
   "source": [
    "import os\n",
    "os.environ[\"OPENAI_API_KEY\"] = get_secret('openai')['api_key']"
   ]
  },
  {
   "cell_type": "markdown",
   "id": "9bf93761-5534-4394-b067-2bdcba9ad884",
   "metadata": {},
   "source": [
    "#### Load the Jupyter AI Magic Commands"
   ]
  },
  {
   "cell_type": "code",
   "execution_count": 9,
   "id": "fa15cfda-a16f-448e-9770-644bfd7f8b7d",
   "metadata": {},
   "outputs": [],
   "source": [
    "%load_ext jupyter_ai_magics"
   ]
  },
  {
   "cell_type": "code",
   "execution_count": 10,
   "id": "a00975c0-a2a5-4aee-8f9f-b89301d16246",
   "metadata": {},
   "outputs": [
    {
     "data": {
      "text/markdown": [
       "This table represents the yearly population growth statistics from 2006 to 2019.\n",
       "\n",
       "| year | current_population | previous_population | growth_rate_percent |\n",
       "|------|--------------------|---------------------|---------------------|\n",
       "| 2006 | 2,810,872         | 2,701,431           | 4.05%               |\n",
       "| 2007 | 2,834,797         | 2,810,872           | 0.85%               |\n",
       "| 2008 | 2,855,390         | 2,834,797           | 0.73%               |\n",
       "| 2009 | 2,889,450         | 2,855,390           | 1.19%               |\n",
       "| 2010 | 2,921,606         | 2,889,450           | 1.11%               |\n",
       "| 2011 | 2,937,979         | 2,921,606           | 0.56%               |\n",
       "| 2012 | 2,949,131         | 2,937,979           | 0.38%               |\n",
       "| 2013 | 2,959,373         | 2,949,131           | 0.35%               |\n",
       "| 2014 | 2,966,369         | 2,959,373           | 0.24%               |\n",
       "| 2015 | 2,978,204         | 2,966,369           | 0.40%               |\n",
       "| 2016 | 2,988,248         | 2,978,204           | 0.34%               |\n",
       "| 2017 | 3,004,279         | 2,988,248           | 0.54%               |\n",
       "| 2018 | 3,013,825         | 3,004,279           | 0.32%               |\n",
       "| 2019 | 3,017,804         | 3,013,825           | 0.13%               |\n",
       "\n",
       "For each year, the table shows the current and previous years' populations, and the growth rate in percentage terms. The growth rate is presumably calculated by the formula ((current_population - previous_population) / previous_population) * 100."
      ],
      "text/plain": [
       "<IPython.core.display.Markdown object>"
      ]
     },
     "execution_count": 10,
     "metadata": {
      "text/markdown": {
       "jupyter_ai": {
        "model_id": "gpt-4",
        "provider_id": "openai-chat"
       }
      }
     },
     "output_type": "execute_result"
    }
   ],
   "source": [
    "%%ai gpt4\n",
    "What is included in the {ar_df}"
   ]
  },
  {
   "cell_type": "code",
   "execution_count": 11,
   "id": "c39c7165-b7e5-4fe3-bf5c-1be181cb71a1",
   "metadata": {},
   "outputs": [
    {
     "data": {
      "text/html": [
       "AI generated code inserted below &#11015;&#65039;"
      ],
      "text/plain": [
       "<IPython.core.display.HTML object>"
      ]
     },
     "execution_count": 11,
     "metadata": {
      "text/html": {
       "jupyter_ai": {
        "model_id": "gpt-4",
        "provider_id": "openai-chat"
       }
      }
     },
     "output_type": "execute_result"
    }
   ],
   "source": [
    "%%ai gpt4 -f code\n",
    "use the data in {ar_df}, create a line chart with the growth rate. Chart must include the AR state name in the title "
   ]
  },
  {
   "cell_type": "code",
   "execution_count": null,
   "id": "1bf40fb0-fbb9-46cf-865a-f8e5c24a201a",
   "metadata": {},
   "outputs": [],
   "source": [
    "import matplotlib.pyplot as plt\n",
    "\n",
    "year = [2006, 2007, 2008, 2009, 2010, 2011, 2012, 2013, 2014, 2015, 2016, 2017, 2018, 2019]\n",
    "growth_rate_percent = [4.05, 0.85, 0.73, 1.19, 1.11, 0.56, 0.38, 0.35, 0.24, 0.40, 0.34, 0.54, 0.32, 0.13]\n",
    "\n",
    "plt.plot(year, growth_rate_percent, marker='o')\n",
    "plt.title('Population Growth Rate in AR State from 2006 to 2019')\n",
    "plt.xlabel('Year')\n",
    "plt.ylabel('Growth Rate (%)')\n",
    "plt.grid()\n",
    "plt.show()\n",
    "```\n",
    "Please note that you have to run this code in a Python environment to generate the line chart."
   ]
  },
  {
   "cell_type": "code",
   "execution_count": 12,
   "id": "3000cb7b-c921-49b6-892d-1b7f32575a89",
   "metadata": {},
   "outputs": [
    {
     "data": {
      "image/png": "[encoded data removed]",
      "text/plain": [
       "<Figure size 1000x500 with 1 Axes>"
      ]
     },
     "metadata": {},
     "output_type": "display_data"
    }
   ],
   "source": [
    "import matplotlib.pyplot as plt\n",
    "\n",
    "year = [2006,2007,2008,2009,2010,2011,2012,2013,2014,2015,2016,2017,2018,2019]\n",
    "growth_rate_percent = [4.05, 0.85, 0.73, 1.19, 1.11, 0.56, 0.38, 0.35, 0.24, 0.40, 0.34, 0.54, 0.32, 0.13]\n",
    "\n",
    "plt.figure(figsize=(10, 5))\n",
    "plt.plot(year, growth_rate_percent, marker='o')\n",
    "plt.title('Population Growth Rate in Arkansas State from 2006 to 2019')\n",
    "plt.xlabel('Year')\n",
    "plt.ylabel('Growth Rate (%)')\n",
    "plt.grid(True)\n",
    "plt.show()"
   ]
  },
  {
   "cell_type": "markdown",
   "id": "ed33f2b5-5b6d-447c-b9f6-d442728b0f61",
   "metadata": {},
   "source": [
    "### Markdown Explanation"
   ]
  },
  {
   "cell_type": "markdown",
   "id": "e4bfa71a-feb5-4dc2-886b-86f02dcf5a54",
   "metadata": {},
   "source": [
    "#### Markdown explanation: the population growth is at a peak in 2006 at 4%, and sharply declines. \n",
    "#### However, the rate slowly decreases from 2008 to 2019, reaching the lowest growth point of 0.13%. This decreasing growth rate was a steady decline, and shows that people weren't moving into Arkansas, having kids, or people were dying. "
   ]
  },
  {
   "cell_type": "markdown",
   "id": "b7573795-3b91-47c8-8604-0d910407fe2b",
   "metadata": {},
   "source": [
    "# Q2- Income and Population Relationship"
   ]
  },
  {
   "cell_type": "code",
   "execution_count": 13,
   "id": "ba572e93-5933-4a4f-908e-e7afdec26cf5",
   "metadata": {},
   "outputs": [],
   "source": [
    "sql_2 = \"\"\"\n",
    "SELECT\n",
    "    P.year,\n",
    "    S.name AS state_name,\n",
    "    P.pop AS yearly_population,\n",
    "    I.income AS annual_income\n",
    "FROM\n",
    "    population AS P\n",
    "INNER JOIN\n",
    "    income AS I\n",
    "    ON P.fips = I.fips AND P.year = I.year \n",
    "INNER JOIN\n",
    "    name AS S \n",
    "    ON P.fips = S.fips\n",
    "WHERE\n",
    "    S.name = 'Arkansas'\n",
    "ORDER BY\n",
    "    P.year ASC\n",
    "    \"\"\""
   ]
  },
  {
   "cell_type": "markdown",
   "id": "b267bdcf-febd-4d9d-9d28-511d2c500ba7",
   "metadata": {},
   "source": [
    "#### importing data from SQL"
   ]
  },
  {
   "cell_type": "code",
   "execution_count": 14,
   "id": "c64c153f-4a5d-4031-9117-eaf8102e55cc",
   "metadata": {},
   "outputs": [
    {
     "name": "stderr",
     "output_type": "stream",
     "text": [
      "/tmp/ipykernel_20756/1857416668.py:1: UserWarning: pandas only supports SQLAlchemy connectable (engine/connection) or database string URI or sqlite3 DBAPI2 connection. Other DBAPI2 objects are not tested. Please consider using SQLAlchemy.\n",
      "  ar_df2 = pd.read_sql(sql_2, con=conn)\n"
     ]
    },
    {
     "data": {
      "text/html": [
       "<div>\n",
       "<style scoped>\n",
       "    .dataframe tbody tr th:only-of-type {\n",
       "        vertical-align: middle;\n",
       "    }\n",
       "\n",
       "    .dataframe tbody tr th {\n",
       "        vertical-align: top;\n",
       "    }\n",
       "\n",
       "    .dataframe thead th {\n",
       "        text-align: right;\n",
       "    }\n",
       "</style>\n",
       "<table border=\"1\" class=\"dataframe\">\n",
       "  <thead>\n",
       "    <tr style=\"text-align: right;\">\n",
       "      <th></th>\n",
       "      <th>year</th>\n",
       "      <th>state_name</th>\n",
       "      <th>yearly_population</th>\n",
       "      <th>annual_income</th>\n",
       "    </tr>\n",
       "  </thead>\n",
       "  <tbody>\n",
       "    <tr>\n",
       "      <th>0</th>\n",
       "      <td>2005</td>\n",
       "      <td>Arkansas</td>\n",
       "      <td>2701431</td>\n",
       "      <td>34999</td>\n",
       "    </tr>\n",
       "    <tr>\n",
       "      <th>1</th>\n",
       "      <td>2006</td>\n",
       "      <td>Arkansas</td>\n",
       "      <td>2810872</td>\n",
       "      <td>36599</td>\n",
       "    </tr>\n",
       "    <tr>\n",
       "      <th>2</th>\n",
       "      <td>2007</td>\n",
       "      <td>Arkansas</td>\n",
       "      <td>2834797</td>\n",
       "      <td>38134</td>\n",
       "    </tr>\n",
       "    <tr>\n",
       "      <th>3</th>\n",
       "      <td>2008</td>\n",
       "      <td>Arkansas</td>\n",
       "      <td>2855390</td>\n",
       "      <td>38815</td>\n",
       "    </tr>\n",
       "    <tr>\n",
       "      <th>4</th>\n",
       "      <td>2009</td>\n",
       "      <td>Arkansas</td>\n",
       "      <td>2889450</td>\n",
       "      <td>37823</td>\n",
       "    </tr>\n",
       "  </tbody>\n",
       "</table>\n",
       "</div>"
      ],
      "text/plain": [
       "   year state_name  yearly_population  annual_income\n",
       "0  2005   Arkansas            2701431          34999\n",
       "1  2006   Arkansas            2810872          36599\n",
       "2  2007   Arkansas            2834797          38134\n",
       "3  2008   Arkansas            2855390          38815\n",
       "4  2009   Arkansas            2889450          37823"
      ]
     },
     "execution_count": 14,
     "metadata": {},
     "output_type": "execute_result"
    }
   ],
   "source": [
    "ar_df2 = pd.read_sql(sql_2, con=conn)\n",
    "ar_df2.head() "
   ]
  },
  {
   "cell_type": "markdown",
   "id": "949788d1-82d7-4436-9d5b-43e0050e4278",
   "metadata": {},
   "source": [
    "#### read the data in, show the top 5 rows"
   ]
  },
  {
   "cell_type": "markdown",
   "id": "3fafcebf-618f-48a7-9065-7cd5d5b97e98",
   "metadata": {},
   "source": [
    "#### below, using AI to help code in a visualization"
   ]
  },
  {
   "cell_type": "code",
   "execution_count": 15,
   "id": "7aa3da96-c1c4-4e06-a536-e0b3b0fe91bf",
   "metadata": {},
   "outputs": [
    {
     "data": {
      "text/markdown": [
       "Here is a Python code snippet that uses `matplotlib` to create a dual-axis chart:\n",
       "\n",
       "```python\n",
       "import matplotlib.pyplot as plt\n",
       "\n",
       "year = [2005, 2006, 2007, 2008, 2009, 2010, 2011, 2012, 2013, 2014, 2015, 2016, 2017, 2018, 2019]\n",
       "population = [2701431, 2810872, 2834797, 2855390, 2889450, 2921606, 2937979, 2949131, 2959373, 2966369, 2978204, 2988248, 3004279, 3013825, 3017804]\n",
       "income = [34999, 36599, 38134, 38815, 37823, 38307, 38758, 40112, 40511, 41262, 41995, 44334, 45869, 47062, 48952]\n",
       "\n",
       "fig, ax1 = plt.subplots()\n",
       "\n",
       "color = 'tab:blue'\n",
       "ax1.set_xlabel('Year')\n",
       "ax1.set_ylabel('Population', color=color)\n",
       "ax1.plot(year, population , color=color)\n",
       "ax1.tick_params(axis='y', labelcolor=color)\n",
       "\n",
       "ax2 = ax1.twinx()\n",
       "color = 'tab:red'\n",
       "ax2.set_ylabel('Median Household Income', color=color)\n",
       "ax2.plot(year, income,  marker='o', color=color)\n",
       "ax2.tick_params(axis='y', labelcolor=color)\n",
       "\n",
       "fig.tight_layout()\n",
       "plt.title('Population and Median Household Income in Arkansas (2005-2019)')\n",
       "plt.show()\n",
       "```\n",
       "\n",
       "Be sure to run this code in a Python environment in order to generate the dual-axis chart."
      ],
      "text/plain": [
       "<IPython.core.display.Markdown object>"
      ]
     },
     "execution_count": 15,
     "metadata": {
      "text/markdown": {
       "jupyter_ai": {
        "model_id": "gpt-4",
        "provider_id": "openai-chat"
       }
      }
     },
     "output_type": "execute_result"
    }
   ],
   "source": [
    "%%ai gpt4\n",
    "use the data in {ar_df2},create a dual-axis chart in Python with Jupyter AI’s help:\n",
    "o X-axis = year\n",
    "o Left Y-axis = population (line)\n",
    "o Right Y-axis = median household income (bar or line, different color)\n",
    "• Chart must include the state name in the title.\n",
    " "
   ]
  },
  {
   "cell_type": "code",
   "execution_count": 16,
   "id": "863f0f20-1e67-4c72-8aa5-2fb51a074c05",
   "metadata": {},
   "outputs": [
    {
     "data": {
      "image/png": "[encoded data removed]",
      "text/plain": [
       "<Figure size 640x480 with 2 Axes>"
      ]
     },
     "metadata": {},
     "output_type": "display_data"
    }
   ],
   "source": [
    "import matplotlib.pyplot as plt\n",
    "import pandas as pd\n",
    "\n",
    "# Create a DataFrame\n",
    "df = pd.DataFrame({\n",
    "    'Year': [2005, 2006, 2007, 2008, 2009, 2010, 2011, 2012, 2013, 2014, 2015, 2016, 2017, 2018, 2019],\n",
    "    'Population': [2701431, 2810872, 2834797, 2855390, 2889450, 2921606, 2937979, 2949131, 2959373, 2966369, 2978204, 2988248, 3004279, 3013825, 3017804],\n",
    "    'Income': [34999, 36599, 38134, 38815, 37823, 38307, 38758, 40112, 40511, 41262, 41995, 44334, 45869, 47062, 48952]\n",
    "})\n",
    "\n",
    "# Create a dual-axis figure\n",
    "fig, ax1 = plt.subplots()\n",
    "\n",
    "# Plot Population\n",
    "ax1.plot(df['Year'], df['Population'], color = 'blue', label = 'Population')\n",
    "ax1.set_ylabel('Population', color = 'blue')\n",
    "\n",
    "# Instantiate a second y-axis that shares the same x-axis\n",
    "ax2 = ax1.twinx()\n",
    "\n",
    "# Plot Income \n",
    "ax2.plot(df['Year'], df['Income'], color = 'red', label = 'Income')\n",
    "ax2.set_ylabel('Income', color = 'red')\n",
    "\n",
    "# Set title\n",
    "plt.title('Population and Income in Arkansas (2005-2019)')\n",
    "\n",
    "# Show the plot with legend\n",
    "fig.legend(loc=\"upper left\")\n",
    "plt.show()"
   ]
  },
  {
   "cell_type": "markdown",
   "id": "d54b5fd9-04b5-461f-a4ae-87160c270a75",
   "metadata": {},
   "source": [
    "#### Markdown explanation: The population and income trends compare because the median income and the population in Arkansas have observed a growing trend from 2005 to 2019. \n",
    "#### However, the population is a steady increase, but the income increase/growth is more of an irregular increase. So, as more people existed, the median income didn't really reflect a similarly trending increase. "
   ]
  },
  {
   "cell_type": "markdown",
   "id": "0ed58b59-c98c-4bb6-b5eb-ed639719cfcc",
   "metadata": {},
   "source": [
    "## Q3- What is the annual growth rate of the population for the past 10 years?"
   ]
  },
  {
   "cell_type": "markdown",
   "id": "c58eda18-c639-448a-8aa0-860ac666d8f2",
   "metadata": {},
   "source": [
    "#### load in SQL"
   ]
  },
  {
   "cell_type": "code",
   "execution_count": 24,
   "id": "7adcdaa2-6504-463a-b382-90bdb6210873",
   "metadata": {},
   "outputs": [],
   "source": [
    "sql_3 = \"\"\"\n",
    "SELECT\n",
    "    P.year,\n",
    "    P.pop,\n",
    "    (P.pop - LAG(P.pop) OVER (ORDER BY P.year)) * 100.0 / LAG(P.pop) OVER (ORDER BY P.year) AS annual_growth_rate_percent\n",
    "FROM\n",
    "    population AS P\n",
    "INNER JOIN\n",
    "    name AS S\n",
    "    ON P.fips = S.fips\n",
    "WHERE\n",
    "    S.name = 'Arkansas'\n",
    "    AND P.year BETWEEN 2010 AND 2019\n",
    "ORDER BY\n",
    "    P.year ASC\n",
    "    \"\"\""
   ]
  },
  {
   "cell_type": "markdown",
   "id": "f26483eb-96ec-449d-bc53-d6dfeb165828",
   "metadata": {},
   "source": [
    "#### read in data and show the first 5 rows"
   ]
  },
  {
   "cell_type": "code",
   "execution_count": 26,
   "id": "319f1ab4-3aaa-4ac4-9eaf-e8c75e1964b1",
   "metadata": {},
   "outputs": [
    {
     "name": "stderr",
     "output_type": "stream",
     "text": [
      "/tmp/ipykernel_20756/2927227325.py:1: UserWarning: pandas only supports SQLAlchemy connectable (engine/connection) or database string URI or sqlite3 DBAPI2 connection. Other DBAPI2 objects are not tested. Please consider using SQLAlchemy.\n",
      "  ar_df3 = pd.read_sql(sql_3, con=conn)\n"
     ]
    },
    {
     "data": {
      "text/html": [
       "<div>\n",
       "<style scoped>\n",
       "    .dataframe tbody tr th:only-of-type {\n",
       "        vertical-align: middle;\n",
       "    }\n",
       "\n",
       "    .dataframe tbody tr th {\n",
       "        vertical-align: top;\n",
       "    }\n",
       "\n",
       "    .dataframe thead th {\n",
       "        text-align: right;\n",
       "    }\n",
       "</style>\n",
       "<table border=\"1\" class=\"dataframe\">\n",
       "  <thead>\n",
       "    <tr style=\"text-align: right;\">\n",
       "      <th></th>\n",
       "      <th>year</th>\n",
       "      <th>pop</th>\n",
       "      <th>annual_growth_rate_percent</th>\n",
       "    </tr>\n",
       "  </thead>\n",
       "  <tbody>\n",
       "    <tr>\n",
       "      <th>0</th>\n",
       "      <td>2010</td>\n",
       "      <td>2921606</td>\n",
       "      <td>NaN</td>\n",
       "    </tr>\n",
       "    <tr>\n",
       "      <th>1</th>\n",
       "      <td>2011</td>\n",
       "      <td>2937979</td>\n",
       "      <td>0.560411</td>\n",
       "    </tr>\n",
       "    <tr>\n",
       "      <th>2</th>\n",
       "      <td>2012</td>\n",
       "      <td>2949131</td>\n",
       "      <td>0.379581</td>\n",
       "    </tr>\n",
       "    <tr>\n",
       "      <th>3</th>\n",
       "      <td>2013</td>\n",
       "      <td>2959373</td>\n",
       "      <td>0.347289</td>\n",
       "    </tr>\n",
       "    <tr>\n",
       "      <th>4</th>\n",
       "      <td>2014</td>\n",
       "      <td>2966369</td>\n",
       "      <td>0.236401</td>\n",
       "    </tr>\n",
       "  </tbody>\n",
       "</table>\n",
       "</div>"
      ],
      "text/plain": [
       "   year      pop  annual_growth_rate_percent\n",
       "0  2010  2921606                         NaN\n",
       "1  2011  2937979                    0.560411\n",
       "2  2012  2949131                    0.379581\n",
       "3  2013  2959373                    0.347289\n",
       "4  2014  2966369                    0.236401"
      ]
     },
     "execution_count": 26,
     "metadata": {},
     "output_type": "execute_result"
    }
   ],
   "source": [
    "ar_df3 = pd.read_sql(sql_3, con=conn)\n",
    "ar_df3.head() "
   ]
  },
  {
   "cell_type": "markdown",
   "id": "f5cfe723-1c54-49d3-b4eb-c11166f66675",
   "metadata": {},
   "source": [
    "#### ai to help make a chart of data"
   ]
  },
  {
   "cell_type": "code",
   "execution_count": 28,
   "id": "91c0a366-b198-49dc-9d4e-9d5d8a1b70a6",
   "metadata": {},
   "outputs": [
    {
     "data": {
      "text/markdown": [
       "Here's the chart visualization in Python. Replace the \\`python\\` with your specific language if necessary.\n",
       "\n",
       "```python\n",
       "import matplotlib.pyplot as plt\n",
       "\n",
       "# Actual data\n",
       "years = [2010, 2011, 2012, 2013, 2014, 2015, 2016, 2017, 2018, 2019]\n",
       "annual_growth_rate_percent = [None, 0.560411, 0.379581, 0.347289, 0.236401, 0.398973, 0.337250, 0.536468, 0.317747, 0.132025]\n",
       "\n",
       "plt.plot(years, annual_growth_rate_percent, marker='o')\n",
       "plt.title('Annual Population Growth Rate in Arkansas (2010-2019)')\n",
       "plt.xlabel('Year')\n",
       "plt.ylabel('Annual Growth Rate (%)')\n",
       "plt.ylim(bottom=0)  # Set the bottom ylim to 0\n",
       "plt.grid()\n",
       "plt.show()\n",
       "```\n",
       "In this chart, the x-axis represents the year and the y-axis represents the annual population growth rate in percentages. The line with markers shows the annual growth rate in Arkansas from 2010 to 2019."
      ],
      "text/plain": [
       "<IPython.core.display.Markdown object>"
      ]
     },
     "execution_count": 28,
     "metadata": {
      "text/markdown": {
       "jupyter_ai": {
        "model_id": "gpt-4",
        "provider_id": "openai-chat"
       }
      }
     },
     "output_type": "execute_result"
    }
   ],
   "source": [
    "%%ai gpt4\n",
    "use the data from {ar_df3}, make a chart visualizing the annual growth rate of the population for the past 10 years . make sure to include the state name Arkansas in the title of the chart"
   ]
  },
  {
   "cell_type": "code",
   "execution_count": 29,
   "id": "56f11d57-2b21-4410-9f71-2b9a90b1d267",
   "metadata": {},
   "outputs": [
    {
     "data": {
      "image/png": "[encoded data removed]",
      "text/plain": [
       "<Figure size 640x480 with 1 Axes>"
      ]
     },
     "metadata": {},
     "output_type": "display_data"
    }
   ],
   "source": [
    "import matplotlib.pyplot as plt\n",
    "\n",
    "# Actual data\n",
    "years = [2010, 2011, 2012, 2013, 2014, 2015, 2016, 2017, 2018, 2019]\n",
    "annual_growth_rate_percent = [None, 0.560411, 0.379581, 0.347289, 0.236401, 0.398973, 0.337250, 0.536468, 0.317747, 0.132025]\n",
    "\n",
    "plt.plot(years, annual_growth_rate_percent, marker='o')\n",
    "plt.title('Annual Population Growth Rate in Arkansas (2010-2019)')\n",
    "plt.xlabel('Year')\n",
    "plt.ylabel('Annual Growth Rate (%)')\n",
    "plt.ylim(bottom=0)  # Set the bottom ylim to 0\n",
    "plt.grid()\n",
    "plt.show()"
   ]
  },
  {
   "cell_type": "markdown",
   "id": "740a9f6d-5d4d-4943-819b-fc682dc45eee",
   "metadata": {},
   "source": [
    "#### Markdown explanation: from 2010-2019, the annual population growth fluctuates in Arkansas. In the earlyy 2010s, it decreases, meaning that people either died or moved away, but the growth rate increases from 2015 and peaks in 2017, decreasing again toward 2019. People are moving in and out of Arkansas in the 2010s, and it would be interesting to examine the underlying socioeconomic trends going on in these years to see if they had any impact on these population trends. "
   ]
  },
  {
   "cell_type": "code",
   "execution_count": null,
   "id": "04c7e912-b2e8-4658-8212-b7df8ee11c96",
   "metadata": {},
   "outputs": [],
   "source": []
  }
 ],
 "metadata": {
  "kernelspec": {
   "display_name": "conda_python3",
   "language": "python",
   "name": "conda_python3"
  },
  "language_info": {
   "codemirror_mode": {
    "name": "ipython",
    "version": 3
   },
   "file_extension": ".py",
   "mimetype": "text/x-python",
   "name": "python",
   "nbconvert_exporter": "python",
   "pygments_lexer": "ipython3",
   "version": "3.10.18"
  }
 },
 "nbformat": 4,
 "nbformat_minor": 5
}
