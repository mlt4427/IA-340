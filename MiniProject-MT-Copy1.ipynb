{
 "cells": [
  {
   "cell_type": "markdown",
   "id": "50864436-83b1-470b-b68e-bdc45612b041",
   "metadata": {},
   "source": [
    "# IA340 Mini Project"
   ]
  },
  {
   "cell_type": "markdown",
   "id": "f4402934-1046-4f48-8a23-191c71682a4a",
   "metadata": {},
   "source": [
    "**Project Title:** SEPTA Ridership by County (2014-2024)"
   ]
  },
  {
   "cell_type": "markdown",
   "id": "fa86e147-d98e-4b88-9371-d35cf94bb2a2",
   "metadata": {},
   "source": [
    "## Research Question\n",
    "Which of the counties is the county with the highest ridership and how did the ridership fluctuate when comparing the pre-pandemic period (2014–2019) to the post-pandemic period (2021–2024)?"
   ]
  },
  {
   "cell_type": "markdown",
   "id": "05d2b0dd-103c-4fe1-a29f-d0af5d7afbba",
   "metadata": {},
   "source": [
    "## Dataset Documentation\n",
    "- **Source:** https://catalog.data.gov/dataset/septa-ridership-statistics\n",
    "- **Description:** SEPTA  ridership data (people getting On and Off a bus) categorized by county, season, and day of the week.\n",
    "- **Time Period:** 2014-2024\n",
    "- **Reason for Choice:** As someone who lives in a county that has SEPTA service, it's interesting to see which county utilizes this form of public transportation the most. "
   ]
  },
  {
   "cell_type": "code",
   "execution_count": 41,
   "id": "a422335b-5a04-419b-ac62-ac2c641b8d99",
   "metadata": {},
   "outputs": [],
   "source": [
    "import pandas as pd\n",
    "import numpy as np\n",
    "import boto3\n",
    "from io import StringIO\n",
    "import re \n",
    "import matplotlib.pyplot as plt\n",
    "import seaborn as sns"
   ]
  },
  {
   "cell_type": "markdown",
   "id": "f0165051-bba2-426c-be72-8f534b264942",
   "metadata": {},
   "source": [
    "## Import"
   ]
  },
  {
   "cell_type": "code",
   "execution_count": 42,
   "id": "39c21d31-9d00-4331-9b09-b2f0fdb6d848",
   "metadata": {},
   "outputs": [],
   "source": [
    "septa_data = pd.read_csv('s3://ia340-2025-fall-mt-4427/Bus_Ridership_by_County.csv') "
   ]
  },
  {
   "cell_type": "code",
   "execution_count": 43,
   "id": "ef3eac84-089c-4b36-b9a9-a4882f0061ba",
   "metadata": {},
   "outputs": [
    {
     "data": {
      "text/html": [
       "<div>\n",
       "<style scoped>\n",
       "    .dataframe tbody tr th:only-of-type {\n",
       "        vertical-align: middle;\n",
       "    }\n",
       "\n",
       "    .dataframe tbody tr th {\n",
       "        vertical-align: top;\n",
       "    }\n",
       "\n",
       "    .dataframe thead th {\n",
       "        text-align: right;\n",
       "    }\n",
       "</style>\n",
       "<table border=\"1\" class=\"dataframe\">\n",
       "  <thead>\n",
       "    <tr style=\"text-align: right;\">\n",
       "      <th></th>\n",
       "      <th>County_Name</th>\n",
       "      <th>Mode</th>\n",
       "      <th>Season</th>\n",
       "      <th>Day_of_Week</th>\n",
       "      <th>On_</th>\n",
       "      <th>Off_</th>\n",
       "      <th>ObjectId</th>\n",
       "    </tr>\n",
       "  </thead>\n",
       "  <tbody>\n",
       "    <tr>\n",
       "      <th>0</th>\n",
       "      <td>Montgomery County</td>\n",
       "      <td>Bus</td>\n",
       "      <td>Fall 2019</td>\n",
       "      <td>Saturday</td>\n",
       "      <td>14109</td>\n",
       "      <td>14995</td>\n",
       "      <td>1</td>\n",
       "    </tr>\n",
       "    <tr>\n",
       "      <th>1</th>\n",
       "      <td>New Castle County</td>\n",
       "      <td>Bus</td>\n",
       "      <td>Fall 2019</td>\n",
       "      <td>Saturday</td>\n",
       "      <td>152</td>\n",
       "      <td>139</td>\n",
       "      <td>2</td>\n",
       "    </tr>\n",
       "    <tr>\n",
       "      <th>2</th>\n",
       "      <td>Philadelphia County</td>\n",
       "      <td>Bus</td>\n",
       "      <td>Fall 2019</td>\n",
       "      <td>Saturday</td>\n",
       "      <td>202787</td>\n",
       "      <td>203013</td>\n",
       "      <td>3</td>\n",
       "    </tr>\n",
       "    <tr>\n",
       "      <th>3</th>\n",
       "      <td>Bucks County</td>\n",
       "      <td>Bus</td>\n",
       "      <td>Fall 2019</td>\n",
       "      <td>Sunday</td>\n",
       "      <td>2169</td>\n",
       "      <td>2240</td>\n",
       "      <td>4</td>\n",
       "    </tr>\n",
       "    <tr>\n",
       "      <th>4</th>\n",
       "      <td>Chester County</td>\n",
       "      <td>Bus</td>\n",
       "      <td>Fall 2019</td>\n",
       "      <td>Sunday</td>\n",
       "      <td>571</td>\n",
       "      <td>565</td>\n",
       "      <td>5</td>\n",
       "    </tr>\n",
       "  </tbody>\n",
       "</table>\n",
       "</div>"
      ],
      "text/plain": [
       "           County_Name Mode     Season Day_of_Week     On_    Off_  ObjectId\n",
       "0    Montgomery County  Bus  Fall 2019    Saturday   14109   14995         1\n",
       "1    New Castle County  Bus  Fall 2019    Saturday     152     139         2\n",
       "2  Philadelphia County  Bus  Fall 2019    Saturday  202787  203013         3\n",
       "3         Bucks County  Bus  Fall 2019      Sunday    2169    2240         4\n",
       "4       Chester County  Bus  Fall 2019      Sunday     571     565         5"
      ]
     },
     "execution_count": 43,
     "metadata": {},
     "output_type": "execute_result"
    }
   ],
   "source": [
    "septa_data.head() "
   ]
  },
  {
   "cell_type": "markdown",
   "id": "c1d45519-4c42-4cfc-b66a-93e2f8a32767",
   "metadata": {},
   "source": [
    "## Markdown Explanation:\n",
    "- **pd.read_csv reads the data into the code to be used\n",
    "- **.head() function shows the top 5 rows of the dataset"
   ]
  },
  {
   "cell_type": "markdown",
   "id": "6d1bb44c-6caa-4a5d-a34d-e29cb1e63d01",
   "metadata": {},
   "source": [
    "# Clean"
   ]
  },
  {
   "cell_type": "code",
   "execution_count": 44,
   "id": "f5117986-6f3f-4b07-9418-13c0e5a3ca57",
   "metadata": {},
   "outputs": [
    {
     "name": "stdout",
     "output_type": "stream",
     "text": [
      "<class 'pandas.core.frame.DataFrame'>\n",
      "RangeIndex: 147 entries, 0 to 146\n",
      "Data columns (total 7 columns):\n",
      " #   Column       Non-Null Count  Dtype \n",
      "---  ------       --------------  ----- \n",
      " 0   County_Name  147 non-null    object\n",
      " 1   Mode         147 non-null    object\n",
      " 2   Season       147 non-null    object\n",
      " 3   Day_of_Week  147 non-null    object\n",
      " 4   On_          147 non-null    int64 \n",
      " 5   Off_         147 non-null    int64 \n",
      " 6   ObjectId     147 non-null    int64 \n",
      "dtypes: int64(3), object(4)\n",
      "memory usage: 8.2+ KB\n"
     ]
    }
   ],
   "source": [
    "septa_data.info()"
   ]
  },
  {
   "cell_type": "code",
   "execution_count": 45,
   "id": "e6bb68b6-6050-4973-86f5-4a51716ac399",
   "metadata": {},
   "outputs": [
    {
     "data": {
      "text/html": [
       "<div>\n",
       "<style scoped>\n",
       "    .dataframe tbody tr th:only-of-type {\n",
       "        vertical-align: middle;\n",
       "    }\n",
       "\n",
       "    .dataframe tbody tr th {\n",
       "        vertical-align: top;\n",
       "    }\n",
       "\n",
       "    .dataframe thead th {\n",
       "        text-align: right;\n",
       "    }\n",
       "</style>\n",
       "<table border=\"1\" class=\"dataframe\">\n",
       "  <thead>\n",
       "    <tr style=\"text-align: right;\">\n",
       "      <th></th>\n",
       "      <th>On_</th>\n",
       "      <th>Off_</th>\n",
       "      <th>ObjectId</th>\n",
       "    </tr>\n",
       "  </thead>\n",
       "  <tbody>\n",
       "    <tr>\n",
       "      <th>count</th>\n",
       "      <td>147.000000</td>\n",
       "      <td>147.000000</td>\n",
       "      <td>147.000000</td>\n",
       "    </tr>\n",
       "    <tr>\n",
       "      <th>mean</th>\n",
       "      <td>42748.489796</td>\n",
       "      <td>42786.707483</td>\n",
       "      <td>74.000000</td>\n",
       "    </tr>\n",
       "    <tr>\n",
       "      <th>std</th>\n",
       "      <td>102704.991991</td>\n",
       "      <td>102419.820596</td>\n",
       "      <td>42.579338</td>\n",
       "    </tr>\n",
       "    <tr>\n",
       "      <th>min</th>\n",
       "      <td>0.000000</td>\n",
       "      <td>0.000000</td>\n",
       "      <td>1.000000</td>\n",
       "    </tr>\n",
       "    <tr>\n",
       "      <th>25%</th>\n",
       "      <td>168.000000</td>\n",
       "      <td>175.000000</td>\n",
       "      <td>37.500000</td>\n",
       "    </tr>\n",
       "    <tr>\n",
       "      <th>50%</th>\n",
       "      <td>3125.000000</td>\n",
       "      <td>3261.000000</td>\n",
       "      <td>74.000000</td>\n",
       "    </tr>\n",
       "    <tr>\n",
       "      <th>75%</th>\n",
       "      <td>22781.000000</td>\n",
       "      <td>22570.500000</td>\n",
       "      <td>110.500000</td>\n",
       "    </tr>\n",
       "    <tr>\n",
       "      <th>max</th>\n",
       "      <td>505004.000000</td>\n",
       "      <td>502410.000000</td>\n",
       "      <td>147.000000</td>\n",
       "    </tr>\n",
       "  </tbody>\n",
       "</table>\n",
       "</div>"
      ],
      "text/plain": [
       "                 On_           Off_    ObjectId\n",
       "count     147.000000     147.000000  147.000000\n",
       "mean    42748.489796   42786.707483   74.000000\n",
       "std    102704.991991  102419.820596   42.579338\n",
       "min         0.000000       0.000000    1.000000\n",
       "25%       168.000000     175.000000   37.500000\n",
       "50%      3125.000000    3261.000000   74.000000\n",
       "75%     22781.000000   22570.500000  110.500000\n",
       "max    505004.000000  502410.000000  147.000000"
      ]
     },
     "execution_count": 45,
     "metadata": {},
     "output_type": "execute_result"
    }
   ],
   "source": [
    "septa_data.describe() "
   ]
  },
  {
   "cell_type": "code",
   "execution_count": 46,
   "id": "8293b7a0-f1bd-47b6-a727-311d42650111",
   "metadata": {},
   "outputs": [
    {
     "data": {
      "text/plain": [
       "County_Name    0\n",
       "Mode           0\n",
       "Season         0\n",
       "Day_of_Week    0\n",
       "On_            0\n",
       "Off_           0\n",
       "ObjectId       0\n",
       "dtype: int64"
      ]
     },
     "execution_count": 46,
     "metadata": {},
     "output_type": "execute_result"
    }
   ],
   "source": [
    "septa_data.isnull().sum() "
   ]
  },
  {
   "cell_type": "code",
   "execution_count": 47,
   "id": "c49f4895-de9b-4e36-9f0f-3701bdfb8027",
   "metadata": {},
   "outputs": [
    {
     "data": {
      "text/plain": [
       "0"
      ]
     },
     "execution_count": 47,
     "metadata": {},
     "output_type": "execute_result"
    }
   ],
   "source": [
    "septa_data.duplicated().sum()"
   ]
  },
  {
   "cell_type": "code",
   "execution_count": 48,
   "id": "bf521859-d323-4e30-8e71-89fe4ce32349",
   "metadata": {},
   "outputs": [],
   "source": [
    "septa_data['On_'] = pd.to_numeric(septa_data['On_'], errors='coerce')\n",
    "septa_data['Off_'] = pd.to_numeric(septa_data['Off_'], errors='coerce')\n",
    "\n",
    "septa_data['Total_Ridership'] = septa_data['On_'] + septa_data['Off_']"
   ]
  },
  {
   "cell_type": "code",
   "execution_count": 49,
   "id": "052bbce0-4020-4e47-99b9-a171eb7bbd38",
   "metadata": {},
   "outputs": [
    {
     "name": "stdout",
     "output_type": "stream",
     "text": [
      "Invalid rows (negative counts): 0\n"
     ]
    }
   ],
   "source": [
    "invalid_rows = septa_data[(septa_data['On_'] < 0) | (septa_data['Off_'] < 0)]\n",
    "print(f\"Invalid rows (negative counts): {len(invalid_rows)}\")"
   ]
  },
  {
   "cell_type": "markdown",
   "id": "c9b5d600-21af-4386-a9e2-61b451538495",
   "metadata": {},
   "source": [
    "## Markdown Explanation: \n",
    "- **.info() shows the column names and basic info of the dataset\n",
    "- **.describe() gives descriptive statistics of the dataset\n",
    "- **.isnull().sum() checks for null values, and there were none to drop/remove from the dataset\n",
    "- ** .duplicated().sum() checks for any duplicate rows in the dataset, and 0 were found\n",
    "- ** the septa_data on and off, coerce forces the columns to be numeric fields\n",
    "- ** the total_ridership adds the number of passengers getting on and off the bus for each row because the figures are numeric now\n",
    "- ** invalid_rows checks to see if there are any invalid or negative count rows and show if there are; there are no invalid rows\n",
    "## Documentation of Changes:\n",
    "- ** No missing values found\n",
    "- ** No duplicates found\n",
    "- ** made on and off values numeric, counted them in the total ridership column\n",
    "- ** checked for invalid rows(ridership counts), none were found"
   ]
  },
  {
   "cell_type": "markdown",
   "id": "b8ffd90c-fd69-4bed-83a4-322047ac949f",
   "metadata": {},
   "source": [
    "# Process/Aggregate"
   ]
  },
  {
   "cell_type": "code",
   "execution_count": 50,
   "id": "de344fec-f5fa-4fb6-9f62-7378f922fa44",
   "metadata": {},
   "outputs": [],
   "source": [
    "septa_data['Year'] = septa_data['Season'].str.extract(r'(\\d{4})').astype(int)\n",
    "\n",
    "annual_ridership = septa_data.groupby(['County_Name', 'Year'])[['On_', 'Off_', 'Total_Ridership']].sum().reset_index()"
   ]
  },
  {
   "cell_type": "markdown",
   "id": "11ee3637-ac57-47fb-8ef4-7c222facdf0e",
   "metadata": {},
   "source": [
    "## Markdown Explanation:\n",
    "- ** extracts the 4-digit year from season, combines all seasons into a single year total "
   ]
  },
  {
   "cell_type": "markdown",
   "id": "27b9928a-53a6-4981-b349-5f1aa0934c66",
   "metadata": {},
   "source": [
    "# Query"
   ]
  },
  {
   "cell_type": "code",
   "execution_count": 51,
   "id": "6ab033a2-8d95-4308-91c8-a255be2bc5a0",
   "metadata": {},
   "outputs": [
    {
     "data": {
      "text/html": [
       "<div>\n",
       "<style scoped>\n",
       "    .dataframe tbody tr th:only-of-type {\n",
       "        vertical-align: middle;\n",
       "    }\n",
       "\n",
       "    .dataframe tbody tr th {\n",
       "        vertical-align: top;\n",
       "    }\n",
       "\n",
       "    .dataframe thead th {\n",
       "        text-align: right;\n",
       "    }\n",
       "</style>\n",
       "<table border=\"1\" class=\"dataframe\">\n",
       "  <thead>\n",
       "    <tr style=\"text-align: right;\">\n",
       "      <th></th>\n",
       "      <th>County_Name</th>\n",
       "      <th>Year</th>\n",
       "      <th>On_</th>\n",
       "      <th>Off_</th>\n",
       "      <th>Total_Ridership</th>\n",
       "    </tr>\n",
       "  </thead>\n",
       "  <tbody>\n",
       "    <tr>\n",
       "      <th>57</th>\n",
       "      <td>Philadelphia County</td>\n",
       "      <td>2017</td>\n",
       "      <td>795487</td>\n",
       "      <td>794416</td>\n",
       "      <td>1589903</td>\n",
       "    </tr>\n",
       "  </tbody>\n",
       "</table>\n",
       "</div>"
      ],
      "text/plain": [
       "            County_Name  Year     On_    Off_  Total_Ridership\n",
       "57  Philadelphia County  2017  795487  794416          1589903"
      ]
     },
     "execution_count": 51,
     "metadata": {},
     "output_type": "execute_result"
    }
   ],
   "source": [
    "highest_county = annual_ridership.sort_values(by='Total_Ridership', ascending=False).head(1)\n",
    "highest_county"
   ]
  },
  {
   "cell_type": "code",
   "execution_count": 52,
   "id": "d45c485b-c2ce-4e96-abb9-0f1f5a6f3932",
   "metadata": {},
   "outputs": [
    {
     "data": {
      "text/html": [
       "<div>\n",
       "<style scoped>\n",
       "    .dataframe tbody tr th:only-of-type {\n",
       "        vertical-align: middle;\n",
       "    }\n",
       "\n",
       "    .dataframe tbody tr th {\n",
       "        vertical-align: top;\n",
       "    }\n",
       "\n",
       "    .dataframe thead th {\n",
       "        text-align: right;\n",
       "    }\n",
       "</style>\n",
       "<table border=\"1\" class=\"dataframe\">\n",
       "  <thead>\n",
       "    <tr style=\"text-align: right;\">\n",
       "      <th></th>\n",
       "      <th>County_Name</th>\n",
       "      <th>Year</th>\n",
       "      <th>On_</th>\n",
       "      <th>Off_</th>\n",
       "      <th>Total_Ridership</th>\n",
       "    </tr>\n",
       "  </thead>\n",
       "  <tbody>\n",
       "    <tr>\n",
       "      <th>54</th>\n",
       "      <td>Philadelphia County</td>\n",
       "      <td>2014</td>\n",
       "      <td>505004</td>\n",
       "      <td>502410</td>\n",
       "      <td>1007414</td>\n",
       "    </tr>\n",
       "    <tr>\n",
       "      <th>55</th>\n",
       "      <td>Philadelphia County</td>\n",
       "      <td>2015</td>\n",
       "      <td>499884</td>\n",
       "      <td>499519</td>\n",
       "      <td>999403</td>\n",
       "    </tr>\n",
       "    <tr>\n",
       "      <th>56</th>\n",
       "      <td>Philadelphia County</td>\n",
       "      <td>2016</td>\n",
       "      <td>447211</td>\n",
       "      <td>447198</td>\n",
       "      <td>894409</td>\n",
       "    </tr>\n",
       "    <tr>\n",
       "      <th>57</th>\n",
       "      <td>Philadelphia County</td>\n",
       "      <td>2017</td>\n",
       "      <td>795487</td>\n",
       "      <td>794416</td>\n",
       "      <td>1589903</td>\n",
       "    </tr>\n",
       "    <tr>\n",
       "      <th>58</th>\n",
       "      <td>Philadelphia County</td>\n",
       "      <td>2018</td>\n",
       "      <td>763557</td>\n",
       "      <td>761938</td>\n",
       "      <td>1525495</td>\n",
       "    </tr>\n",
       "    <tr>\n",
       "      <th>59</th>\n",
       "      <td>Philadelphia County</td>\n",
       "      <td>2019</td>\n",
       "      <td>783294</td>\n",
       "      <td>784583</td>\n",
       "      <td>1567877</td>\n",
       "    </tr>\n",
       "    <tr>\n",
       "      <th>60</th>\n",
       "      <td>Philadelphia County</td>\n",
       "      <td>2021</td>\n",
       "      <td>373014</td>\n",
       "      <td>369729</td>\n",
       "      <td>742743</td>\n",
       "    </tr>\n",
       "    <tr>\n",
       "      <th>61</th>\n",
       "      <td>Philadelphia County</td>\n",
       "      <td>2022</td>\n",
       "      <td>565966</td>\n",
       "      <td>561335</td>\n",
       "      <td>1127301</td>\n",
       "    </tr>\n",
       "    <tr>\n",
       "      <th>62</th>\n",
       "      <td>Philadelphia County</td>\n",
       "      <td>2023</td>\n",
       "      <td>600187</td>\n",
       "      <td>596383</td>\n",
       "      <td>1196570</td>\n",
       "    </tr>\n",
       "  </tbody>\n",
       "</table>\n",
       "</div>"
      ],
      "text/plain": [
       "            County_Name  Year     On_    Off_  Total_Ridership\n",
       "54  Philadelphia County  2014  505004  502410          1007414\n",
       "55  Philadelphia County  2015  499884  499519           999403\n",
       "56  Philadelphia County  2016  447211  447198           894409\n",
       "57  Philadelphia County  2017  795487  794416          1589903\n",
       "58  Philadelphia County  2018  763557  761938          1525495\n",
       "59  Philadelphia County  2019  783294  784583          1567877\n",
       "60  Philadelphia County  2021  373014  369729           742743\n",
       "61  Philadelphia County  2022  565966  561335          1127301\n",
       "62  Philadelphia County  2023  600187  596383          1196570"
      ]
     },
     "execution_count": 52,
     "metadata": {},
     "output_type": "execute_result"
    }
   ],
   "source": [
    "highest_name = highest_county['County_Name'].iloc[0]\n",
    "\n",
    "highest_data = annual_ridership[annual_ridership['County_Name'] == highest_name]\n",
    "highest_data"
   ]
  },
  {
   "cell_type": "code",
   "execution_count": 53,
   "id": "ba2f5c64-4f22-435e-aaa4-1bf874227714",
   "metadata": {},
   "outputs": [
    {
     "name": "stdout",
     "output_type": "stream",
     "text": [
      "County with highest ridership: Philadelphia County\n",
      "Average ridership (2014–2019): 1264084\n",
      "Average ridership (2021–2024): 1022205\n",
      "Percent change: -19.13%\n"
     ]
    }
   ],
   "source": [
    "pre_period = (highest_data['Year'] >= 2014) & (highest_data['Year'] <= 2019)\n",
    "post_period = (highest_data['Year'] >= 2021) & (highest_data['Year'] <= 2024)\n",
    "\n",
    "pre_avg = highest_data[pre_period]['Total_Ridership'].mean()\n",
    "post_avg = highest_data[post_period]['Total_Ridership'].mean()\n",
    "\n",
    "print(f\"County with highest ridership: {highest_name}\")\n",
    "print(f\"Average ridership (2014–2019): {pre_avg:.0f}\")\n",
    "print(f\"Average ridership (2021–2024): {post_avg:.0f}\")\n",
    "print(f\"Percent change: {(post_avg - pre_avg) / pre_avg * 100:.2f}%\")"
   ]
  },
  {
   "cell_type": "markdown",
   "id": "2438fa52-a16c-4465-bf7f-6b352498dcaf",
   "metadata": {},
   "source": [
    "## Markdown Explanation: \n",
    "- ** sorted the dataset by annual ridership, and then revealed the first value with the head function\n",
    "- ** then i stored the value of the name of the county with the highest ridership, and filtered the full dataset for just that county\n",
    "- ** then i compared the average ridership for philadelphia county before and after the pandemic\n",
    "- ** the results showed that there was s decline in ridership after the pandemic"
   ]
  },
  {
   "cell_type": "markdown",
   "id": "f164b189-5f72-4993-b4e1-3ee4646b1d73",
   "metadata": {},
   "source": [
    "# Visualizations"
   ]
  },
  {
   "cell_type": "code",
   "execution_count": 54,
   "id": "572486b6-6280-4244-98d2-4719f2fc095f",
   "metadata": {},
   "outputs": [
    {
     "data": {
      "image/png": "[encoded data removed]",
      "text/plain": [
       "<Figure size 1000x600 with 1 Axes>"
      ]
     },
     "metadata": {},
     "output_type": "display_data"
    }
   ],
   "source": [
    "plt.figure(figsize=(10,6))\n",
    "plt.plot(highest_data['Year'], highest_data['Total_Ridership'], marker='o', label=highest_name)\n",
    "\n",
    "plt.axvspan(2014, 2019, color='lightgreen', alpha=0.2, label='Pre-Pandemic (2014–2019)')\n",
    "plt.axvspan(2021, 2024, color='lightcoral', alpha=0.2, label='Post-Pandemic (2021–2024)')\n",
    "\n",
    "plt.title(f\"Bus Ridership Trend for {highest_name} County (2014–2024)\")\n",
    "plt.xlabel(\"Year\")\n",
    "plt.ylabel(\"Total Ridership (boardings) in millions\")\n",
    "plt.legend()\n",
    "plt.grid(True)\n",
    "plt.show()\n"
   ]
  },
  {
   "cell_type": "markdown",
   "id": "7553d22b-fa62-4185-9bb4-7d3e3600e61d",
   "metadata": {},
   "source": [
    "### Markdown:\n",
    "This visualization shows the total bus ridership for Philadelphia county from 2014 to 2024. The line displays the total bus ridership as it fluctuates annually. The green-shaded region shows the pre-pandemic years of bus ridership, and the red-shaded region shows the post-pandemic years. The chart shows how ridership declined during the pandemic and has been slow to climb back to pre-pandemic levels of ridership, spiking around 1.5 million in 2017 (pre-pandemic high) and re-emerging at around 1.2 million in 2023 (post-pandemic high). "
   ]
  },
  {
   "cell_type": "code",
   "execution_count": 55,
   "id": "0ff60b7c-bcc5-4570-bac4-d4c5931a926b",
   "metadata": {},
   "outputs": [
    {
     "data": {
      "image/png": "[encoded data removed]",
      "text/plain": [
       "<Figure size 640x480 with 1 Axes>"
      ]
     },
     "metadata": {},
     "output_type": "display_data"
    }
   ],
   "source": [
    "bars = plt.bar(highest_data['Year'], highest_data['Total_Ridership'],\n",
    "               color='royalblue', edgecolor='black', width=0.6)\n",
    "\n",
    "for bar in bars:\n",
    "    height = bar.get_height()\n",
    "    plt.text(bar.get_x() + bar.get_width()/2, height + (height * 0.01), f'{height:,.0f}',\n",
    "             ha='center', va='bottom', fontsize=9)\n",
    "\n",
    "plt.title(f\"Bus Ridership for {highest_name} County by Year (2014–2024)\", fontsize=14)\n",
    "plt.xlabel(\"Year\")\n",
    "plt.ylabel(\"Total Ridership (boardings) in millions\")\n",
    "\n",
    "plt.xticks(highest_data['Year'])\n",
    "plt.grid(axis='y', linestyle='--', alpha=0.7) \n",
    "plt.tight_layout()\n",
    "plt.show()"
   ]
  },
  {
   "cell_type": "markdown",
   "id": "92a26bbc-f1cf-41aa-a195-990398943e5f",
   "metadata": {},
   "source": [
    "### Markdown Explanation: \n",
    "This visualization shows the annual bus ridership (data combined through earlier coding) for the highest-ridership SEPTA-serviced county (Philadelphia) from 2014-2024. The ridership rates are pretty constant in the mid-2010s, spiking and leveling out from 2017-2019. However, the ridership is negatively impacted by COVID in 2020, and the bus ridership in the 2020s so far is around the same rate as the earlier 2010s, but is nowhere near the peak in the late 2010s.  "
   ]
  },
  {
   "cell_type": "code",
   "execution_count": null,
   "id": "d9f61b8d-909b-4027-ae35-5d956da2f152",
   "metadata": {},
   "outputs": [],
   "source": []
  }
 ],
 "metadata": {
  "kernelspec": {
   "display_name": "conda_python3",
   "language": "python",
   "name": "conda_python3"
  },
  "language_info": {
   "codemirror_mode": {
    "name": "ipython",
    "version": 3
   },
   "file_extension": ".py",
   "mimetype": "text/x-python",
   "name": "python",
   "nbconvert_exporter": "python",
   "pygments_lexer": "ipython3",
   "version": "3.10.18"
  }
 },
 "nbformat": 4,
 "nbformat_minor": 5
}
